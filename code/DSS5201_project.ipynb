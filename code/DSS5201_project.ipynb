{
 "cells": [
  {
   "cell_type": "code",
   "execution_count": 17,
   "metadata": {},
   "outputs": [],
   "source": [
    "import numpy as np\n",
    "import pandas as pd\n",
    "import geopandas as gpd"
   ]
  },
  {
   "cell_type": "code",
   "execution_count": 18,
   "metadata": {},
   "outputs": [],
   "source": [
    "data = pd.read_excel('../data/The history of global natural gas production.xlsx',sheet_name = 1)"
   ]
  },
  {
   "cell_type": "code",
   "execution_count": 19,
   "metadata": {},
   "outputs": [],
   "source": [
    "data = data.melt(id_vars=['Year'],var_name='country',value_name='gas' )"
   ]
  },
  {
   "cell_type": "code",
   "execution_count": 20,
   "metadata": {},
   "outputs": [],
   "source": [
    "data.to_csv('../data/tidy_gas.csv')"
   ]
  },
  {
   "cell_type": "code",
   "execution_count": 21,
   "metadata": {},
   "outputs": [],
   "source": [
    "data = pd.read_csv('../data/tidy_gas.csv',index_col=0)\n",
    "country_border = gpd.read_file('../data/countries.geojson')"
   ]
  },
  {
   "cell_type": "code",
   "execution_count": 22,
   "metadata": {},
   "outputs": [],
   "source": [
    "country_border = country_border.rename(columns={'ADMIN':'country'})"
   ]
  },
  {
   "cell_type": "code",
   "execution_count": 23,
   "metadata": {},
   "outputs": [],
   "source": [
    "data_with_border = data.merge(country_border,how='left',on='country')"
   ]
  },
  {
   "cell_type": "code",
   "execution_count": 24,
   "metadata": {},
   "outputs": [
    {
     "data": {
      "text/plain": [
       "array(['United States', 'Congo', \"Cote d'Ivoire\", 'Czechia',\n",
       "       'Czechoslovakia', 'Serbia', 'Tanzania', 'USSR', 'World',\n",
       "       'Yugoslavia'], dtype=object)"
      ]
     },
     "execution_count": 24,
     "metadata": {},
     "output_type": "execute_result"
    }
   ],
   "source": [
    "data_with_border[data_with_border['ISO_A2'].isna()]['country'].unique()"
   ]
  },
  {
   "cell_type": "code",
   "execution_count": 25,
   "metadata": {},
   "outputs": [
    {
     "name": "stdout",
     "output_type": "stream",
     "text": [
      "searching for any country name containing United States…………\n",
      "\n",
      "yes there is United States Minor Outlying Islands\n",
      "\n",
      "yes there is United States of America\n",
      "\n",
      "yes there is United States Virgin Islands\n",
      "\n",
      "searching for any country name containing Congo…………\n",
      "\n",
      "yes there is Democratic Republic of the Congo\n",
      "\n",
      "yes there is Republic of Congo\n",
      "\n",
      "searching for any country name containing Cote d'Ivoire…………\n",
      "\n",
      "no there is  no Cote d'Ivoire\n",
      "\n",
      "searching for any country name containing Czechia…………\n",
      "\n",
      "no there is  no Czechia\n",
      "\n",
      "searching for any country name containing Czechoslovakia…………\n",
      "\n",
      "no there is  no Czechoslovakia\n",
      "\n",
      "searching for any country name containing Serbia…………\n",
      "\n",
      "yes there is Republic of Serbia\n",
      "\n",
      "searching for any country name containing Tanzania…………\n",
      "\n",
      "yes there is United Republic of Tanzania\n",
      "\n",
      "searching for any country name containing USSR…………\n",
      "\n",
      "no there is  no USSR\n",
      "\n",
      "searching for any country name containing World…………\n",
      "\n",
      "no there is  no World\n",
      "\n",
      "searching for any country name containing Yugoslavia…………\n",
      "\n",
      "no there is  no Yugoslavia\n",
      "\n",
      "countries below are not found\n",
      "[\"Cote d'Ivoire\", 'Czechia', 'Czechoslovakia', 'USSR', 'World', 'Yugoslavia']\n"
     ]
    }
   ],
   "source": [
    "found = []\n",
    "not_found=[]\n",
    "for j in data_with_border[data_with_border['ISO_A2'].isna()]['country'].unique():\n",
    "    find = 0\n",
    "    print('searching for any country name containing {}…………\\n'.format(j))\n",
    "    for i in country_border['country'].unique():\n",
    "        if j in i :\n",
    "            print('yes there is {}\\n'.format(i))\n",
    "            find = 1\n",
    "            found.append((i,j))\n",
    "    if find == 0:\n",
    "        print('no there is  no {}\\n'.format(j))\n",
    "        not_found.append(j)\n",
    "print('countries below are not found')\n",
    "print(not_found)"
   ]
  },
  {
   "cell_type": "code",
   "execution_count": 26,
   "metadata": {},
   "outputs": [
    {
     "data": {
      "text/plain": [
       "[('United States Minor Outlying Islands', 'United States'),\n",
       " ('United States of America', 'United States'),\n",
       " ('United States Virgin Islands', 'United States'),\n",
       " ('Democratic Republic of the Congo', 'Congo'),\n",
       " ('Republic of Congo', 'Congo'),\n",
       " ('Republic of Serbia', 'Serbia'),\n",
       " ('United Republic of Tanzania', 'Tanzania')]"
      ]
     },
     "execution_count": 26,
     "metadata": {},
     "output_type": "execute_result"
    }
   ],
   "source": [
    "found"
   ]
  },
  {
   "cell_type": "code",
   "execution_count": 27,
   "metadata": {},
   "outputs": [],
   "source": [
    "correct_indice = [1,4,5,6]\n",
    "found = [found[i]for i in correct_indice]"
   ]
  },
  {
   "cell_type": "code",
   "execution_count": 28,
   "metadata": {},
   "outputs": [
    {
     "data": {
      "text/plain": [
       "[('United States of America', 'United States'),\n",
       " ('Republic of Congo', 'Congo'),\n",
       " ('Republic of Serbia', 'Serbia'),\n",
       " ('United Republic of Tanzania', 'Tanzania')]"
      ]
     },
     "execution_count": 28,
     "metadata": {},
     "output_type": "execute_result"
    }
   ],
   "source": [
    "found"
   ]
  },
  {
   "cell_type": "code",
   "execution_count": 29,
   "metadata": {},
   "outputs": [
    {
     "data": {
      "text/html": [
       "<div>\n",
       "<style scoped>\n",
       "    .dataframe tbody tr th:only-of-type {\n",
       "        vertical-align: middle;\n",
       "    }\n",
       "\n",
       "    .dataframe tbody tr th {\n",
       "        vertical-align: top;\n",
       "    }\n",
       "\n",
       "    .dataframe thead th {\n",
       "        text-align: right;\n",
       "    }\n",
       "</style>\n",
       "<table border=\"1\" class=\"dataframe\">\n",
       "  <thead>\n",
       "    <tr style=\"text-align: right;\">\n",
       "      <th></th>\n",
       "      <th>Year</th>\n",
       "      <th>country</th>\n",
       "      <th>gas</th>\n",
       "      <th>ISO_A3</th>\n",
       "      <th>ISO_A2</th>\n",
       "      <th>geometry</th>\n",
       "    </tr>\n",
       "  </thead>\n",
       "  <tbody>\n",
       "    <tr>\n",
       "      <th>0</th>\n",
       "      <td>1900</td>\n",
       "      <td>United States</td>\n",
       "      <td>0.26582551</td>\n",
       "      <td>NaN</td>\n",
       "      <td>NaN</td>\n",
       "      <td>None</td>\n",
       "    </tr>\n",
       "    <tr>\n",
       "      <th>1</th>\n",
       "      <td>1901</td>\n",
       "      <td>United States</td>\n",
       "      <td>0.29458103</td>\n",
       "      <td>NaN</td>\n",
       "      <td>NaN</td>\n",
       "      <td>None</td>\n",
       "    </tr>\n",
       "    <tr>\n",
       "      <th>2</th>\n",
       "      <td>1902</td>\n",
       "      <td>United States</td>\n",
       "      <td>0.32333653</td>\n",
       "      <td>NaN</td>\n",
       "      <td>NaN</td>\n",
       "      <td>None</td>\n",
       "    </tr>\n",
       "    <tr>\n",
       "      <th>3</th>\n",
       "      <td>1903</td>\n",
       "      <td>United States</td>\n",
       "      <td>0.35209204</td>\n",
       "      <td>NaN</td>\n",
       "      <td>NaN</td>\n",
       "      <td>None</td>\n",
       "    </tr>\n",
       "    <tr>\n",
       "      <th>4</th>\n",
       "      <td>1904</td>\n",
       "      <td>United States</td>\n",
       "      <td>0.38084755</td>\n",
       "      <td>NaN</td>\n",
       "      <td>NaN</td>\n",
       "      <td>None</td>\n",
       "    </tr>\n",
       "    <tr>\n",
       "      <th>...</th>\n",
       "      <td>...</td>\n",
       "      <td>...</td>\n",
       "      <td>...</td>\n",
       "      <td>...</td>\n",
       "      <td>...</td>\n",
       "      <td>...</td>\n",
       "    </tr>\n",
       "    <tr>\n",
       "      <th>118</th>\n",
       "      <td>2018</td>\n",
       "      <td>United States</td>\n",
       "      <td>30.2736996</td>\n",
       "      <td>NaN</td>\n",
       "      <td>NaN</td>\n",
       "      <td>None</td>\n",
       "    </tr>\n",
       "    <tr>\n",
       "      <th>119</th>\n",
       "      <td>2019</td>\n",
       "      <td>United States</td>\n",
       "      <td>33.411996</td>\n",
       "      <td>NaN</td>\n",
       "      <td>NaN</td>\n",
       "      <td>None</td>\n",
       "    </tr>\n",
       "    <tr>\n",
       "      <th>120</th>\n",
       "      <td>2020</td>\n",
       "      <td>United States</td>\n",
       "      <td>32.979762</td>\n",
       "      <td>NaN</td>\n",
       "      <td>NaN</td>\n",
       "      <td>None</td>\n",
       "    </tr>\n",
       "    <tr>\n",
       "      <th>121</th>\n",
       "      <td>2021</td>\n",
       "      <td>United States</td>\n",
       "      <td>33.9891084</td>\n",
       "      <td>NaN</td>\n",
       "      <td>NaN</td>\n",
       "      <td>None</td>\n",
       "    </tr>\n",
       "    <tr>\n",
       "      <th>122</th>\n",
       "      <td>2022</td>\n",
       "      <td>United States</td>\n",
       "      <td>35.2278252</td>\n",
       "      <td>NaN</td>\n",
       "      <td>NaN</td>\n",
       "      <td>None</td>\n",
       "    </tr>\n",
       "  </tbody>\n",
       "</table>\n",
       "<p>123 rows × 6 columns</p>\n",
       "</div>"
      ],
      "text/plain": [
       "     Year        country         gas ISO_A3 ISO_A2 geometry\n",
       "0    1900  United States  0.26582551    NaN    NaN     None\n",
       "1    1901  United States  0.29458103    NaN    NaN     None\n",
       "2    1902  United States  0.32333653    NaN    NaN     None\n",
       "3    1903  United States  0.35209204    NaN    NaN     None\n",
       "4    1904  United States  0.38084755    NaN    NaN     None\n",
       "..    ...            ...         ...    ...    ...      ...\n",
       "118  2018  United States  30.2736996    NaN    NaN     None\n",
       "119  2019  United States   33.411996    NaN    NaN     None\n",
       "120  2020  United States   32.979762    NaN    NaN     None\n",
       "121  2021  United States  33.9891084    NaN    NaN     None\n",
       "122  2022  United States  35.2278252    NaN    NaN     None\n",
       "\n",
       "[123 rows x 6 columns]"
      ]
     },
     "execution_count": 29,
     "metadata": {},
     "output_type": "execute_result"
    }
   ],
   "source": [
    "data_with_border[data_with_border['country'] == 'United States']"
   ]
  },
  {
   "cell_type": "code",
   "execution_count": 30,
   "metadata": {},
   "outputs": [],
   "source": [
    "for i,j in found:\n",
    "    data_with_border.loc[data_with_border['country'] == j,['ISO_A3','ISO_A2','geometry']] = country_border[country_border['country'] ==i ][['ISO_A3','ISO_A2','geometry']].values"
   ]
  },
  {
   "cell_type": "code",
   "execution_count": 31,
   "metadata": {},
   "outputs": [
    {
     "data": {
      "text/plain": [
       "array([\"Cote d'Ivoire\", 'Czechia', 'Czechoslovakia', 'USSR', 'World',\n",
       "       'Yugoslavia'], dtype=object)"
      ]
     },
     "execution_count": 31,
     "metadata": {},
     "output_type": "execute_result"
    }
   ],
   "source": [
    "data_with_border[data_with_border['ISO_A2'].isna()]['country'].unique()"
   ]
  },
  {
   "cell_type": "code",
   "execution_count": 16,
   "metadata": {},
   "outputs": [],
   "source": [
    "data_with_border_no_border = data_with_border[data_with_border['ISO_A2'].isna()]\n",
    "data_with_border = data_with_border[~data_with_border['ISO_A2'].isna()]"
   ]
  },
  {
   "cell_type": "code",
   "execution_count": null,
   "metadata": {},
   "outputs": [],
   "source": [
    "#转化为geopandas数据格式\n",
    "data_with_border = gpd.GeoDataFrame(data_with_border,geometry='geometry')"
   ]
  },
  {
   "cell_type": "code",
   "execution_count": null,
   "metadata": {},
   "outputs": [],
   "source": [
    "#以下数据转化时间太久，跑了十分钟都没跑出来，中间中断后发现未完成的文件就有1.74GB。\n",
    "#这就不存储为文件了，改为每次运行时做以上数据清洗。\n",
    "#data_with_border.to_file('../data/tidy_data_with_border.geojson',driver=\"GeoJSON\")"
   ]
  }
 ],
 "metadata": {
  "kernelspec": {
   "display_name": "Python 3",
   "language": "python",
   "name": "python3"
  },
  "language_info": {
   "codemirror_mode": {
    "name": "ipython",
    "version": 3
   },
   "file_extension": ".py",
   "mimetype": "text/x-python",
   "name": "python",
   "nbconvert_exporter": "python",
   "pygments_lexer": "ipython3",
   "version": "3.12.6"
  }
 },
 "nbformat": 4,
 "nbformat_minor": 2
}
